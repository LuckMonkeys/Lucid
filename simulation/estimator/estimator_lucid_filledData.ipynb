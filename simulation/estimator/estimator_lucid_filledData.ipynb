{
 "cells": [
  {
   "cell_type": "markdown",
   "metadata": {},
   "source": [
    "## Lucid: Workload Estimator\n"
   ]
  },
  {
   "cell_type": "code",
   "execution_count": 7,
   "metadata": {},
   "outputs": [],
   "source": [
    "import matplotlib.pyplot as plt\n",
    "import numpy as np\n",
    "import pandas as pd\n",
    "import seaborn as sns\n",
    "\n",
    "from sklearn import preprocessing, metrics\n",
    "from interpret.glassbox import ExplainableBoostingRegressor\n",
    "\n",
    "\n",
    "pd.set_option(\"display.max_columns\", None)\n",
    "\n",
    "idx = 1\n",
    "save = False\n",
    "experiment_list = [\"Philly\", \"MLaas\"]\n",
    "cluster_list = [\"Philly\", \"MLaas\"]\n",
    "cluster = cluster_list[idx]\n",
    "experiment = experiment_list[idx]\n",
    "\n",
    "datapath = f\"../data/{cluster}\"\n",
    "\n",
    "result = pd.DataFrame()\n",
    "\n",
    "df = pd.read_csv(f\"{datapath}/filled.csv\", \n",
    "                 usecols=[\n",
    "                \"job_id\",\n",
    "                \"user\",\n",
    "                \"vc\",\n",
    "                \"gpu_num\",\n",
    "                \"submit_time\",\n",
    "                \"amp\",\n",
    "                \"gpu_util\",\n",
    "                \"gmem_util\",\n",
    "                \"gmem\",\n",
    "                \"duration\" ],\n",
    "            )\n"
   ]
  },
  {
   "cell_type": "code",
   "execution_count": 9,
   "metadata": {},
   "outputs": [
    {
     "data": {
      "text/plain": [
       "[(0, 15635), (15635, 31269), (31269, 46903), (46903, 62537), (62537, 78171)]"
      ]
     },
     "execution_count": 9,
     "metadata": {},
     "output_type": "execute_result"
    }
   ],
   "source": [
    "def split_indices(n, parts=5):\n",
    "    size = n // parts\n",
    "    remainer = n % parts\n",
    "    \n",
    "    indices = []\n",
    "    start = 0\n",
    "    \n",
    "    for i in range(parts):\n",
    "        end = start + size + (1 if i < remainer else 0)\n",
    "        indices.append((start, end))\n",
    "        start = end\n",
    "    return indices\n",
    "\n",
    "split_indices(len(df))"
   ]
  },
  {
   "cell_type": "markdown",
   "metadata": {},
   "source": [
    "## Partical Update Lucid Model"
   ]
  },
  {
   "cell_type": "code",
   "execution_count": 10,
   "metadata": {},
   "outputs": [
    {
     "name": "stdout",
     "output_type": "stream",
     "text": [
      "Train Data Len: 15635\n",
      "mae_score: 3357.42, mape_score: 4.74, r2_score: 0.6742\n",
      "Train Data Len: 15634\n",
      "mae_score: 3481.87, mape_score: 3.49, r2_score: 0.6403\n",
      "Train Data Len: 15634\n",
      "mae_score: 2925.79, mape_score: 4.95, r2_score: 0.5535\n",
      "Train Data Len: 15634\n",
      "mae_score: 3430.56, mape_score: 4.15, r2_score: 0.6365\n"
     ]
    }
   ],
   "source": [
    "\n",
    "trace_range_list = split_indices(len(df), parts=5)\n",
    "\n",
    "week_df = pd.DataFrame()\n",
    "for i, trace_range in enumerate(trace_range_list[:-1]):\n",
    "    \n",
    "    train_start, train_end = trace_range[0], trace_range[1]\n",
    "    val_start, val_end = trace_range_list[i+1][0], trace_range_list[i+1][1]\n",
    "    \n",
    "    \n",
    "    train_df = df[train_start:train_end]\n",
    "    val_df = df[val_start:val_end] \n",
    "\n",
    "    train_df = train_df.sort_values(by=\"submit_time\")\n",
    "    train_df.reset_index(inplace=True, drop=True)\n",
    "    val_df = val_df.sort_values(by=\"submit_time\")\n",
    "    val_df.reset_index(inplace=True, drop=True)\n",
    "\n",
    "    train_data = train_df.drop(columns=[\"duration\", \"submit_time\"])\n",
    "    test_data = val_df.drop(columns=[\"duration\", \"submit_time\"])\n",
    "    train_label = train_df[[\"duration\"]]\n",
    "    test_label = val_df[[\"duration\"]]\n",
    "\n",
    "    print(f\"Train Data Len: {len(train_data)}\")\n",
    "\n",
    "    # ebm = ExplainableBoostingRegressor(learning_rate=0.01, binning=\"uniform\", interactions=20)\n",
    "    ebm = ExplainableBoostingRegressor(learning_rate=0.01,  interactions=20)\n",
    "    ebm.fit(train_data, train_label)\n",
    "    pred = ebm.predict(test_data)\n",
    "\n",
    "    mae_score = metrics.mean_absolute_error(test_label, pred)\n",
    "    mape_score = metrics.mean_absolute_percentage_error(test_label, pred)\n",
    "    r2_score = metrics.r2_score(test_label, pred)\n",
    "    result.at[\"ebm_r2\", cluster] = r2_score\n",
    "    print(f\"mae_score: {mae_score:.2f}, mape_score: {mape_score:.2f}, r2_score: {r2_score:.4f}\")\n",
    "\n",
    "    pred = pred.astype(int)\n",
    "    val_df.loc[:,'priority'] = pred\n",
    "    week_df = pd.concat([week_df, val_df])\n",
    "\n",
    "\n",
    "# week_df.to_csv(f\"ebm/{experiment}_Sept_ebm_weekly_updated.csv\", index=False)\n"
   ]
  },
  {
   "cell_type": "code",
   "execution_count": 11,
   "metadata": {},
   "outputs": [],
   "source": [
    "week_df.to_csv(f\"ebm/{experiment}_ebm_updated.csv\", index=False)\n"
   ]
  },
  {
   "cell_type": "code",
   "execution_count": 19,
   "metadata": {},
   "outputs": [
    {
     "data": {
      "text/plain": [
       "True"
      ]
     },
     "execution_count": 19,
     "metadata": {},
     "output_type": "execute_result"
    }
   ],
   "source": [
    "trace_data = pd.read_csv(\"../data/Philly/filled.csv\")\n",
    "emb_data = pd.read_csv(\"./ebm/Philly_ebm_updated.csv\")\n",
    "\n",
    "trace_data = pd.read_csv(\"../data/MLaas/filled.csv\")\n",
    "emb_data = pd.read_csv(\"./ebm/MLaas_ebm_updated.csv\")\n",
    "# emb_data.iloc[0]['job_id'] == trace_data.iloc[1926][\"job_id\"]\n",
    "emb_data.iloc[0]['job_id'] == trace_data.iloc[15635][\"job_id\"]\n",
    "# emb_data[0][\"job_id\"] == trace_data[1926][\"job_id\"]"
   ]
  }
 ],
 "metadata": {
  "kernelspec": {
   "display_name": "lucid",
   "language": "python",
   "name": "python3"
  },
  "language_info": {
   "codemirror_mode": {
    "name": "ipython",
    "version": 3
   },
   "file_extension": ".py",
   "mimetype": "text/x-python",
   "name": "python",
   "nbconvert_exporter": "python",
   "pygments_lexer": "ipython3",
   "version": "3.9.18"
  },
  "orig_nbformat": 4
 },
 "nbformat": 4,
 "nbformat_minor": 2
}
